{
 "cells": [
  {
   "cell_type": "code",
   "execution_count": 1,
   "metadata": {},
   "outputs": [
    {
     "name": "stdout",
     "output_type": "stream",
     "text": [
      "Let's talk about Chintan Sandesara.\n",
      "He's 77 inches, or 196 centimeters tall.\n",
      "He's 197 pounds, or 89 kilograms heavy.\n",
      "Actually that is not too heavy.\n",
      "He's got Brown eyes, and black hair.\n",
      "He's teeth are usually white color, depending on the coffee.\n",
      "If I add 34, 77 and 197, I get 319.\n"
     ]
    }
   ],
   "source": [
    "name = \"Chintan Sandesara\"\n",
    "age = 34  # I am getting old\n",
    "height = round(76.8)  # Using round() function to round off height in inches.\n",
    "weight = 197\n",
    "eyes = \"Brown\"\n",
    "teeth = \"white\"\n",
    "hair = \"black\"\n",
    "# Using the round() function, with calculations within it (yet to understand details), to round off height in cms.\n",
    "height_cm = round(height / 0.39370)\n",
    "# Using the round() function, with calculations within it (yet to understand details), to round off weight in kgs.\n",
    "weight_kg = round(weight / 2.2046)\n",
    "\n",
    "\n",
    "print(f\"Let's talk about {name}.\")\n",
    "print(f\"He's {height} inches, or {height_cm} centimeters tall.\")\n",
    "print(f\"He's {weight} pounds, or {weight_kg} kilograms heavy.\")\n",
    "print(\"Actually that is not too heavy.\")\n",
    "print(f\"He's got {eyes} eyes, and {hair} hair.\")\n",
    "print(f\"He's teeth are usually {teeth} color, depending on the coffee.\")\n",
    "\n",
    "#This line is tricky, so hopefully I got it right.\n",
    "\n",
    "total = age + height_cm + weight_kg\n",
    "print(f\"If I add {age}, {height} and {weight}, I get {total}.\")"
   ]
  }
 ],
 "metadata": {
  "kernelspec": {
   "display_name": "Python 3",
   "language": "python",
   "name": "python3"
  },
  "language_info": {
   "codemirror_mode": {
    "name": "ipython",
    "version": 3
   },
   "file_extension": ".py",
   "mimetype": "text/x-python",
   "name": "python",
   "nbconvert_exporter": "python",
   "pygments_lexer": "ipython3",
   "version": "3.12.1"
  }
 },
 "nbformat": 4,
 "nbformat_minor": 2
}
